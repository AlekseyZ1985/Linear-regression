{
 "cells": [
  {
   "cell_type": "code",
   "execution_count": 1,
   "id": "f53bd816",
   "metadata": {},
   "outputs": [],
   "source": [
    "from sklearn.ensemble import RandomForestClassifier\n",
    "from sklearn.linear_model import LogisticRegression, LinearRegression\n",
    "from sklearn.metrics import accuracy_score, confusion_matrix, mean_absolute_error, roc_curve, roc_auc_score\n",
    "from sklearn.model_selection import train_test_split, cross_val_score, cross_validate\n",
    "from sklearn.neural_network import MLPClassifier\n",
    "import pandas as pd\n",
    "from sklearn.preprocessing import OneHotEncoder\n",
    "from sklearn.preprocessing import StandardScaler\n",
    "from sklearn.svm import SVC\n",
    "from sklearn.model_selection import GridSearchCV, RandomizedSearchCV\n",
    "from sklearn.tree import DecisionTreeClassifier\n",
    "from sklearn.neighbors import KNeighborsClassifier\n",
    "from sklearn.metrics import roc_curve, precision_recall_curve, recall_score\n",
    "import matplotlib.pyplot as plt\n",
    "plt.style.use(\"ggplot\")\n",
    "from sklearn.metrics import roc_curve, precision_recall_curve, auc, make_scorer, recall_score, accuracy_score, precision_score, confusion_matrix\n",
    "import numpy as np\n",
    "import pandas as pd\n",
    "import matplotlib.pyplot as plt\n",
    "import seaborn as sns\n",
    "import catboost as cb\n",
    "from imblearn.under_sampling import NearMiss\n",
    "from imblearn.over_sampling import SMOTE\n",
    "import xgboost\n",
    "from imblearn.ensemble import BalancedBaggingClassifier \n",
    "from imblearn.ensemble import BalancedRandomForestClassifier \n",
    "from sklearn.metrics import f1_score\n",
    "from sklearn.metrics import mean_squared_error\n",
    "from sklearn.preprocessing import MinMaxScaler\n",
    "import warnings\n",
    "warnings.filterwarnings('ignore')"
   ]
  },
  {
   "cell_type": "code",
   "execution_count": 2,
   "id": "4bdff721",
   "metadata": {},
   "outputs": [
    {
     "data": {
      "text/plain": [
       "(800, 10)"
      ]
     },
     "execution_count": 2,
     "metadata": {},
     "output_type": "execute_result"
    }
   ],
   "source": [
    "df = pd.read_csv('train.csv')\n",
    "df.shape"
   ]
  },
  {
   "cell_type": "code",
   "execution_count": 3,
   "id": "04cc925b",
   "metadata": {},
   "outputs": [
    {
     "name": "stdout",
     "output_type": "stream",
     "text": [
      "<class 'pandas.core.frame.DataFrame'>\n",
      "RangeIndex: 800 entries, 0 to 799\n",
      "Data columns (total 10 columns):\n",
      " #   Column              Non-Null Count  Dtype  \n",
      "---  ------              --------------  -----  \n",
      " 0   Id                  800 non-null    int64  \n",
      " 1   Cement              800 non-null    float64\n",
      " 2   Blast Furnace Slag  800 non-null    float64\n",
      " 3   Fly Ash             800 non-null    float64\n",
      " 4   Water               800 non-null    float64\n",
      " 5   Superplasticizer    800 non-null    float64\n",
      " 6   Coarse Aggregate    800 non-null    float64\n",
      " 7   Fine Aggregate      800 non-null    float64\n",
      " 8   Age                 800 non-null    int64  \n",
      " 9   Strength            800 non-null    float64\n",
      "dtypes: float64(8), int64(2)\n",
      "memory usage: 62.6 KB\n"
     ]
    }
   ],
   "source": [
    "df.info()"
   ]
  },
  {
   "cell_type": "code",
   "execution_count": 4,
   "id": "8a1701b7",
   "metadata": {},
   "outputs": [
    {
     "data": {
      "text/html": [
       "<div>\n",
       "<style scoped>\n",
       "    .dataframe tbody tr th:only-of-type {\n",
       "        vertical-align: middle;\n",
       "    }\n",
       "\n",
       "    .dataframe tbody tr th {\n",
       "        vertical-align: top;\n",
       "    }\n",
       "\n",
       "    .dataframe thead th {\n",
       "        text-align: right;\n",
       "    }\n",
       "</style>\n",
       "<table border=\"1\" class=\"dataframe\">\n",
       "  <thead>\n",
       "    <tr style=\"text-align: right;\">\n",
       "      <th></th>\n",
       "      <th>Id</th>\n",
       "      <th>Cement</th>\n",
       "      <th>Blast Furnace Slag</th>\n",
       "      <th>Fly Ash</th>\n",
       "      <th>Water</th>\n",
       "      <th>Superplasticizer</th>\n",
       "      <th>Coarse Aggregate</th>\n",
       "      <th>Fine Aggregate</th>\n",
       "      <th>Age</th>\n",
       "      <th>Strength</th>\n",
       "    </tr>\n",
       "  </thead>\n",
       "  <tbody>\n",
       "    <tr>\n",
       "      <th>count</th>\n",
       "      <td>800.0000</td>\n",
       "      <td>800.000000</td>\n",
       "      <td>800.000000</td>\n",
       "      <td>800.000000</td>\n",
       "      <td>800.000000</td>\n",
       "      <td>800.000000</td>\n",
       "      <td>800.000000</td>\n",
       "      <td>800.000000</td>\n",
       "      <td>800.000000</td>\n",
       "      <td>800.000000</td>\n",
       "    </tr>\n",
       "    <tr>\n",
       "      <th>mean</th>\n",
       "      <td>629.5000</td>\n",
       "      <td>285.412500</td>\n",
       "      <td>72.279375</td>\n",
       "      <td>52.672500</td>\n",
       "      <td>181.895625</td>\n",
       "      <td>6.124500</td>\n",
       "      <td>973.810375</td>\n",
       "      <td>772.093125</td>\n",
       "      <td>46.608750</td>\n",
       "      <td>36.218325</td>\n",
       "    </tr>\n",
       "    <tr>\n",
       "      <th>std</th>\n",
       "      <td>231.0844</td>\n",
       "      <td>106.020958</td>\n",
       "      <td>86.547254</td>\n",
       "      <td>63.627917</td>\n",
       "      <td>21.755194</td>\n",
       "      <td>6.008909</td>\n",
       "      <td>78.729449</td>\n",
       "      <td>80.779009</td>\n",
       "      <td>63.957105</td>\n",
       "      <td>16.797454</td>\n",
       "    </tr>\n",
       "    <tr>\n",
       "      <th>min</th>\n",
       "      <td>230.0000</td>\n",
       "      <td>102.000000</td>\n",
       "      <td>0.000000</td>\n",
       "      <td>0.000000</td>\n",
       "      <td>121.800000</td>\n",
       "      <td>0.000000</td>\n",
       "      <td>801.000000</td>\n",
       "      <td>594.000000</td>\n",
       "      <td>1.000000</td>\n",
       "      <td>2.330000</td>\n",
       "    </tr>\n",
       "    <tr>\n",
       "      <th>25%</th>\n",
       "      <td>429.7500</td>\n",
       "      <td>198.600000</td>\n",
       "      <td>0.000000</td>\n",
       "      <td>0.000000</td>\n",
       "      <td>164.900000</td>\n",
       "      <td>0.000000</td>\n",
       "      <td>932.000000</td>\n",
       "      <td>723.850000</td>\n",
       "      <td>7.000000</td>\n",
       "      <td>23.830000</td>\n",
       "    </tr>\n",
       "    <tr>\n",
       "      <th>50%</th>\n",
       "      <td>629.5000</td>\n",
       "      <td>276.050000</td>\n",
       "      <td>20.000000</td>\n",
       "      <td>0.000000</td>\n",
       "      <td>185.700000</td>\n",
       "      <td>6.100000</td>\n",
       "      <td>968.000000</td>\n",
       "      <td>779.850000</td>\n",
       "      <td>28.000000</td>\n",
       "      <td>34.755000</td>\n",
       "    </tr>\n",
       "    <tr>\n",
       "      <th>75%</th>\n",
       "      <td>829.2500</td>\n",
       "      <td>359.000000</td>\n",
       "      <td>142.500000</td>\n",
       "      <td>118.200000</td>\n",
       "      <td>193.000000</td>\n",
       "      <td>10.300000</td>\n",
       "      <td>1034.250000</td>\n",
       "      <td>822.650000</td>\n",
       "      <td>56.000000</td>\n",
       "      <td>47.152500</td>\n",
       "    </tr>\n",
       "    <tr>\n",
       "      <th>max</th>\n",
       "      <td>1029.0000</td>\n",
       "      <td>540.000000</td>\n",
       "      <td>359.400000</td>\n",
       "      <td>200.100000</td>\n",
       "      <td>247.000000</td>\n",
       "      <td>32.200000</td>\n",
       "      <td>1145.000000</td>\n",
       "      <td>992.600000</td>\n",
       "      <td>365.000000</td>\n",
       "      <td>82.600000</td>\n",
       "    </tr>\n",
       "  </tbody>\n",
       "</table>\n",
       "</div>"
      ],
      "text/plain": [
       "              Id      Cement  Blast Furnace Slag     Fly Ash       Water  \\\n",
       "count   800.0000  800.000000          800.000000  800.000000  800.000000   \n",
       "mean    629.5000  285.412500           72.279375   52.672500  181.895625   \n",
       "std     231.0844  106.020958           86.547254   63.627917   21.755194   \n",
       "min     230.0000  102.000000            0.000000    0.000000  121.800000   \n",
       "25%     429.7500  198.600000            0.000000    0.000000  164.900000   \n",
       "50%     629.5000  276.050000           20.000000    0.000000  185.700000   \n",
       "75%     829.2500  359.000000          142.500000  118.200000  193.000000   \n",
       "max    1029.0000  540.000000          359.400000  200.100000  247.000000   \n",
       "\n",
       "       Superplasticizer  Coarse Aggregate  Fine Aggregate         Age  \\\n",
       "count        800.000000        800.000000      800.000000  800.000000   \n",
       "mean           6.124500        973.810375      772.093125   46.608750   \n",
       "std            6.008909         78.729449       80.779009   63.957105   \n",
       "min            0.000000        801.000000      594.000000    1.000000   \n",
       "25%            0.000000        932.000000      723.850000    7.000000   \n",
       "50%            6.100000        968.000000      779.850000   28.000000   \n",
       "75%           10.300000       1034.250000      822.650000   56.000000   \n",
       "max           32.200000       1145.000000      992.600000  365.000000   \n",
       "\n",
       "         Strength  \n",
       "count  800.000000  \n",
       "mean    36.218325  \n",
       "std     16.797454  \n",
       "min      2.330000  \n",
       "25%     23.830000  \n",
       "50%     34.755000  \n",
       "75%     47.152500  \n",
       "max     82.600000  "
      ]
     },
     "execution_count": 4,
     "metadata": {},
     "output_type": "execute_result"
    }
   ],
   "source": [
    "df.describe()"
   ]
  },
  {
   "cell_type": "markdown",
   "id": "5456d25a",
   "metadata": {},
   "source": [
    "## Корреляция"
   ]
  },
  {
   "cell_type": "code",
   "execution_count": 5,
   "id": "109f263d",
   "metadata": {},
   "outputs": [
    {
     "data": {
      "text/plain": [
       "Strength              1.000000\n",
       "Cement                0.497831\n",
       "Superplasticizer      0.361332\n",
       "Age                   0.330996\n",
       "Blast Furnace Slag    0.123579\n",
       "Id                    0.023882\n",
       "Fly Ash              -0.103265\n",
       "Coarse Aggregate     -0.168176\n",
       "Fine Aggregate       -0.171005\n",
       "Water                -0.281885\n",
       "Name: Strength, dtype: float64"
      ]
     },
     "execution_count": 5,
     "metadata": {},
     "output_type": "execute_result"
    }
   ],
   "source": [
    "corr_matrix = df.corr()\n",
    "corr_matrix[\"Strength\"].sort_values(ascending=False)"
   ]
  },
  {
   "cell_type": "markdown",
   "id": "be3caf4a",
   "metadata": {},
   "source": [
    "## Разделение выборки на трейн и тест"
   ]
  },
  {
   "cell_type": "code",
   "execution_count": 6,
   "id": "d984f4d1",
   "metadata": {},
   "outputs": [],
   "source": [
    "X = df[['Cement',\"Blast Furnace Slag\", \"Superplasticizer\", \"Age\", \"Coarse Aggregate\",\n",
    "       \"Water\"]]\n",
    "y = df['Strength']\n",
    "from sklearn.model_selection import train_test_split\n",
    "train_x, test_x, train_y, test_y = train_test_split(X, y, test_size=0.2, random_state=42)"
   ]
  },
  {
   "cell_type": "code",
   "execution_count": 7,
   "id": "74311265",
   "metadata": {},
   "outputs": [],
   "source": [
    "num_cols = [\n",
    "    \"Cement\",\n",
    "    \"Blast Furnace Slag\",\n",
    "    \"Superplasticizer\",\n",
    "    \"Age\",\n",
    "    \"Coarse Aggregate\",\n",
    "    \"Water\"\n",
    "]"
   ]
  },
  {
   "cell_type": "code",
   "execution_count": 8,
   "id": "929e52d2",
   "metadata": {},
   "outputs": [
    {
     "name": "stdout",
     "output_type": "stream",
     "text": [
      "Histogram for Cement\n"
     ]
    },
    {
     "data": {
      "image/png": "[encoded data removed]",
      "text/plain": [
       "<Figure size 432x288 with 1 Axes>"
      ]
     },
     "metadata": {},
     "output_type": "display_data"
    },
    {
     "name": "stdout",
     "output_type": "stream",
     "text": [
      "Histogram for Blast Furnace Slag\n"
     ]
    },
    {
     "data": {
      "image/png": "[encoded data removed]",
      "text/plain": [
       "<Figure size 432x288 with 1 Axes>"
      ]
     },
     "metadata": {},
     "output_type": "display_data"
    },
    {
     "name": "stdout",
     "output_type": "stream",
     "text": [
      "Histogram for Superplasticizer\n"
     ]
    },
    {
     "data": {
      "image/png": "[encoded data removed]",
      "text/plain": [
       "<Figure size 432x288 with 1 Axes>"
      ]
     },
     "metadata": {},
     "output_type": "display_data"
    },
    {
     "name": "stdout",
     "output_type": "stream",
     "text": [
      "Histogram for Age\n"
     ]
    },
    {
     "data": {
      "image/png": "[encoded data removed]",
      "text/plain": [
       "<Figure size 432x288 with 1 Axes>"
      ]
     },
     "metadata": {},
     "output_type": "display_data"
    },
    {
     "name": "stdout",
     "output_type": "stream",
     "text": [
      "Histogram for Coarse Aggregate\n"
     ]
    },
    {
     "data": {
      "image/png": "[encoded data removed]",
      "text/plain": [
       "<Figure size 432x288 with 1 Axes>"
      ]
     },
     "metadata": {},
     "output_type": "display_data"
    },
    {
     "name": "stdout",
     "output_type": "stream",
     "text": [
      "Histogram for Water\n"
     ]
    },
    {
     "data": {
      "image/png": "[encoded data removed]",
      "text/plain": [
       "<Figure size 432x288 with 1 Axes>"
      ]
     },
     "metadata": {},
     "output_type": "display_data"
    }
   ],
   "source": [
    "for col in num_cols:\n",
    "    print(f'Histogram for {col}')\n",
    "    df[col].hist(bins=100)\n",
    "    plt.show()"
   ]
  },
  {
   "cell_type": "markdown",
   "id": "bf4c8608",
   "metadata": {},
   "source": [
    "## Работа с выбросами"
   ]
  },
  {
   "cell_type": "code",
   "execution_count": 9,
   "id": "ad2e3876",
   "metadata": {},
   "outputs": [
    {
     "data": {
      "image/png": "[encoded data removed]",
      "text/plain": [
       "<Figure size 360x1080 with 1 Axes>"
      ]
     },
     "metadata": {},
     "output_type": "display_data"
    }
   ],
   "source": [
    "from matplotlib.ticker import FormatStrFormatter\n",
    "import matplotlib.pyplot as plt\n",
    "fig, ax = plt.subplots(figsize=(5, 15))\n",
    "ax.boxplot(train_x.Superplasticizer)\n",
    "ax.set_ylabel('Cуперпластификатор в смеси.')\n",
    "ax.set_title('Cуперпластификатор (с аномалиями)')\n",
    "\n",
    "ax.yaxis.set_major_formatter(FormatStrFormatter('%.0f'))"
   ]
  },
  {
   "cell_type": "code",
   "execution_count": 10,
   "id": "3c8ba755",
   "metadata": {},
   "outputs": [
    {
     "data": {
      "image/png": "[encoded data removed]",
      "text/plain": [
       "<Figure size 360x1080 with 1 Axes>"
      ]
     },
     "metadata": {},
     "output_type": "display_data"
    }
   ],
   "source": [
    "from matplotlib.ticker import FormatStrFormatter\n",
    "import matplotlib.pyplot as plt\n",
    "fig, ax = plt.subplots(figsize=(5, 15))\n",
    "ax.boxplot(df.Superplasticizer)\n",
    "ax.set_ylabel('Cуперпластификатор в смеси.')\n",
    "ax.set_title('Cуперпластификатор (с аномалиями)')\n",
    "\n",
    "ax.yaxis.set_major_formatter(FormatStrFormatter('%.0f'))"
   ]
  },
  {
   "cell_type": "code",
   "execution_count": 11,
   "id": "0674a762",
   "metadata": {},
   "outputs": [],
   "source": [
    "def calculate_outliers(data):\n",
    "    q25 = data.quantile(0.25)\n",
    "    q75 = data.quantile(0.75)\n",
    "    iqr = q75 - q25\n",
    "    boundaries = (q25 - 1.5 * iqr, q75 + 1.5 * iqr)\n",
    "    \n",
    "    return boundaries"
   ]
  },
  {
   "cell_type": "code",
   "execution_count": 12,
   "id": "1d2c525f",
   "metadata": {},
   "outputs": [
    {
     "data": {
      "text/plain": [
       "(-15.600000000000001, 26.0)"
      ]
     },
     "execution_count": 12,
     "metadata": {},
     "output_type": "execute_result"
    }
   ],
   "source": [
    "def calculate_outliers(data):\n",
    "    q25 = data.quantile(0.25)\n",
    "    q75 = data.quantile(0.75)\n",
    "    iqr = q75 - q25\n",
    "    boundaries = (q25 - 1.5 * iqr, q75 + 1.5 * iqr)\n",
    "    \n",
    "    return boundaries\n",
    "boundaries = calculate_outliers(train_x.Superplasticizer)\n",
    "boundaries"
   ]
  },
  {
   "cell_type": "code",
   "execution_count": 13,
   "id": "cd57f444",
   "metadata": {},
   "outputs": [
    {
     "data": {
      "text/plain": [
       "8"
      ]
     },
     "execution_count": 13,
     "metadata": {},
     "output_type": "execute_result"
    }
   ],
   "source": [
    "is_outlier = (train_x.Superplasticizer < boundaries[0]) | (df.Superplasticizer > boundaries[1])\n",
    "is_outlier.sum()"
   ]
  },
  {
   "cell_type": "code",
   "execution_count": 14,
   "id": "45bd05f6",
   "metadata": {},
   "outputs": [
    {
     "data": {
      "text/plain": [
       "0"
      ]
     },
     "execution_count": 14,
     "metadata": {},
     "output_type": "execute_result"
    }
   ],
   "source": [
    "train_x.loc[is_outlier, 'Superplasticizer'] = int(boundaries[1])\n",
    "is_outlier = (train_x.Superplasticizer < boundaries[0]) | (train_x.Superplasticizer > boundaries[1])\n",
    "is_outlier.sum()"
   ]
  },
  {
   "cell_type": "code",
   "execution_count": 15,
   "id": "1edd8e8a",
   "metadata": {},
   "outputs": [
    {
     "data": {
      "text/plain": [
       "(-14.7375, 24.5625)"
      ]
     },
     "execution_count": 15,
     "metadata": {},
     "output_type": "execute_result"
    }
   ],
   "source": [
    "boundaries = calculate_outliers(test_x['Superplasticizer'])\n",
    "boundaries"
   ]
  },
  {
   "cell_type": "code",
   "execution_count": 16,
   "id": "3ef7fb02",
   "metadata": {},
   "outputs": [
    {
     "data": {
      "text/plain": [
       "1"
      ]
     },
     "execution_count": 16,
     "metadata": {},
     "output_type": "execute_result"
    }
   ],
   "source": [
    "is_outlier = (test_x.Superplasticizer < boundaries[0]) | (test_x.Superplasticizer > boundaries[1])\n",
    "is_outlier.sum()"
   ]
  },
  {
   "cell_type": "code",
   "execution_count": 17,
   "id": "49b8d84c",
   "metadata": {},
   "outputs": [
    {
     "data": {
      "text/plain": [
       "0"
      ]
     },
     "execution_count": 17,
     "metadata": {},
     "output_type": "execute_result"
    }
   ],
   "source": [
    "test_x.loc[is_outlier, 'Superplasticizer'] = int(boundaries[1])\n",
    "is_outlier = (test_x.Superplasticizer < boundaries[0]) | (test_x.Superplasticizer > boundaries[1])\n",
    "is_outlier.sum()"
   ]
  },
  {
   "cell_type": "code",
   "execution_count": 18,
   "id": "41bb77d5",
   "metadata": {},
   "outputs": [
    {
     "data": {
      "image/png": "[encoded data removed]",
      "text/plain": [
       "<Figure size 360x1080 with 1 Axes>"
      ]
     },
     "metadata": {},
     "output_type": "display_data"
    }
   ],
   "source": [
    "from matplotlib.ticker import FormatStrFormatter\n",
    "import matplotlib.pyplot as plt\n",
    "fig, ax = plt.subplots(figsize=(5, 15))\n",
    "ax.boxplot(train_x.Age)\n",
    "ax.set_ylabel('Время высыхания бетона.')\n",
    "ax.set_title('Время высыхания (с аномалиями)')\n",
    "\n",
    "ax.yaxis.set_major_formatter(FormatStrFormatter('%.0f'))"
   ]
  },
  {
   "cell_type": "code",
   "execution_count": 19,
   "id": "4816931c",
   "metadata": {},
   "outputs": [
    {
     "data": {
      "text/plain": [
       "(-66.5, 129.5)"
      ]
     },
     "execution_count": 19,
     "metadata": {},
     "output_type": "execute_result"
    }
   ],
   "source": [
    "boundaries = calculate_outliers(train_x.Age)\n",
    "boundaries"
   ]
  },
  {
   "cell_type": "code",
   "execution_count": 20,
   "id": "d0ff6a02",
   "metadata": {},
   "outputs": [
    {
     "data": {
      "text/plain": [
       "37"
      ]
     },
     "execution_count": 20,
     "metadata": {},
     "output_type": "execute_result"
    }
   ],
   "source": [
    "is_outlier = (train_x.Age < boundaries[0]) | (train_x.Age > boundaries[1])\n",
    "is_outlier.sum()"
   ]
  },
  {
   "cell_type": "code",
   "execution_count": 21,
   "id": "953ea679",
   "metadata": {},
   "outputs": [
    {
     "data": {
      "text/plain": [
       "0"
      ]
     },
     "execution_count": 21,
     "metadata": {},
     "output_type": "execute_result"
    }
   ],
   "source": [
    "train_x.loc[is_outlier, 'Age'] = int(boundaries[1])\n",
    "is_outlier = (train_x.Age < boundaries[0]) | (train_x.Age > boundaries[1])\n",
    "is_outlier.sum()"
   ]
  },
  {
   "cell_type": "code",
   "execution_count": 22,
   "id": "23db93a0",
   "metadata": {},
   "outputs": [
    {
     "data": {
      "text/plain": [
       "(-66.5, 129.5)"
      ]
     },
     "execution_count": 22,
     "metadata": {},
     "output_type": "execute_result"
    }
   ],
   "source": [
    "boundaries = calculate_outliers(test_x.Age)\n",
    "boundaries"
   ]
  },
  {
   "cell_type": "code",
   "execution_count": 23,
   "id": "7a03b822",
   "metadata": {},
   "outputs": [
    {
     "data": {
      "text/plain": [
       "9"
      ]
     },
     "execution_count": 23,
     "metadata": {},
     "output_type": "execute_result"
    }
   ],
   "source": [
    "is_outlier = (test_x.Age < boundaries[0]) | (test_x.Age > boundaries[1])\n",
    "is_outlier.sum()"
   ]
  },
  {
   "cell_type": "code",
   "execution_count": 24,
   "id": "bbdb9cc4",
   "metadata": {},
   "outputs": [
    {
     "data": {
      "text/plain": [
       "0"
      ]
     },
     "execution_count": 24,
     "metadata": {},
     "output_type": "execute_result"
    }
   ],
   "source": [
    "test_x.loc[is_outlier, 'Age'] = int(boundaries[1])\n",
    "is_outlier = (test_x.Age < boundaries[0]) | (test_x.Age > boundaries[1])\n",
    "is_outlier.sum()"
   ]
  },
  {
   "cell_type": "code",
   "execution_count": 25,
   "id": "3103b5bd",
   "metadata": {},
   "outputs": [
    {
     "data": {
      "image/png": "[encoded data removed]",
      "text/plain": [
       "<Figure size 360x1080 with 1 Axes>"
      ]
     },
     "metadata": {},
     "output_type": "display_data"
    }
   ],
   "source": [
    "from matplotlib.ticker import FormatStrFormatter\n",
    "import matplotlib.pyplot as plt\n",
    "fig, ax = plt.subplots(figsize=(5, 15))\n",
    "ax.boxplot(train_x[\"Blast Furnace Slag\"])\n",
    "ax.set_ylabel('Количество доменного шлака.')\n",
    "ax.set_title('Количество доменного шлака (с аномалиями)')\n",
    "\n",
    "ax.yaxis.set_major_formatter(FormatStrFormatter('%.0f'))\n"
   ]
  },
  {
   "cell_type": "code",
   "execution_count": 26,
   "id": "fde21492",
   "metadata": {},
   "outputs": [
    {
     "data": {
      "text/plain": [
       "1"
      ]
     },
     "execution_count": 26,
     "metadata": {},
     "output_type": "execute_result"
    }
   ],
   "source": [
    "boundaries = calculate_outliers(train_x[\"Blast Furnace Slag\"])\n",
    "is_outlier = (train_x[\"Blast Furnace Slag\"] < boundaries[0]) | (train_x[\"Blast Furnace Slag\"] > boundaries[1])\n",
    "is_outlier.sum()"
   ]
  },
  {
   "cell_type": "code",
   "execution_count": 27,
   "id": "3ed4c0ba",
   "metadata": {},
   "outputs": [
    {
     "data": {
      "text/plain": [
       "0"
      ]
     },
     "execution_count": 27,
     "metadata": {},
     "output_type": "execute_result"
    }
   ],
   "source": [
    "train_x.loc[is_outlier, 'Blast Furnace Slag'] = int(boundaries[1])\n",
    "is_outlier = (train_x[\"Blast Furnace Slag\"] < boundaries[0]) | (train_x[\"Blast Furnace Slag\"] > boundaries[1])\n",
    "is_outlier.sum()"
   ]
  },
  {
   "cell_type": "code",
   "execution_count": 28,
   "id": "647464bf",
   "metadata": {},
   "outputs": [
    {
     "data": {
      "text/plain": [
       "0"
      ]
     },
     "execution_count": 28,
     "metadata": {},
     "output_type": "execute_result"
    }
   ],
   "source": [
    "boundaries = calculate_outliers(test_x[\"Blast Furnace Slag\"])\n",
    "is_outlier = (test_x[\"Blast Furnace Slag\"] < boundaries[0]) | (test_x[\"Blast Furnace Slag\"] > boundaries[1])\n",
    "is_outlier.sum()"
   ]
  },
  {
   "cell_type": "code",
   "execution_count": 29,
   "id": "0a4355b8",
   "metadata": {},
   "outputs": [
    {
     "data": {
      "image/png": "[encoded data removed]",
      "text/plain": [
       "<Figure size 360x1080 with 1 Axes>"
      ]
     },
     "metadata": {},
     "output_type": "display_data"
    }
   ],
   "source": [
    "from matplotlib.ticker import FormatStrFormatter\n",
    "import matplotlib.pyplot as plt\n",
    "fig, ax = plt.subplots(figsize=(5, 15))\n",
    "ax.boxplot(train_x[\"Water\"])\n",
    "ax.set_ylabel('Количество воды.')\n",
    "ax.set_title('Количество воды (с аномалиями)')\n",
    "ax.yaxis.set_major_formatter(FormatStrFormatter('%.0f'))"
   ]
  },
  {
   "cell_type": "code",
   "execution_count": 30,
   "id": "34b05563",
   "metadata": {},
   "outputs": [
    {
     "data": {
      "text/plain": [
       "9"
      ]
     },
     "execution_count": 30,
     "metadata": {},
     "output_type": "execute_result"
    }
   ],
   "source": [
    "boundaries = calculate_outliers(train_x[\"Water\"])\n",
    "is_outlier = (train_x[\"Water\"] < boundaries[0]) | (train_x[\"Water\"] > boundaries[1])\n",
    "is_outlier.sum()"
   ]
  },
  {
   "cell_type": "code",
   "execution_count": 31,
   "id": "e25872ff",
   "metadata": {},
   "outputs": [
    {
     "data": {
      "text/plain": [
       "0"
      ]
     },
     "execution_count": 31,
     "metadata": {},
     "output_type": "execute_result"
    }
   ],
   "source": [
    "train_x.loc[is_outlier, \"Water\"] = int(boundaries[1])\n",
    "is_outlier = (train_x[\"Water\"] < boundaries[0]) | (train_x[\"Water\"] > boundaries[1])\n",
    "is_outlier.sum()"
   ]
  },
  {
   "cell_type": "code",
   "execution_count": 32,
   "id": "894a569c",
   "metadata": {},
   "outputs": [
    {
     "data": {
      "text/plain": [
       "7"
      ]
     },
     "execution_count": 32,
     "metadata": {},
     "output_type": "execute_result"
    }
   ],
   "source": [
    "boundaries = calculate_outliers(test_x[\"Water\"])\n",
    "is_outlier = (test_x[\"Water\"] < boundaries[0]) | (test_x[\"Water\"] > boundaries[1])\n",
    "is_outlier.sum()"
   ]
  },
  {
   "cell_type": "code",
   "execution_count": 33,
   "id": "608ada13",
   "metadata": {},
   "outputs": [
    {
     "data": {
      "text/plain": [
       "0"
      ]
     },
     "execution_count": 33,
     "metadata": {},
     "output_type": "execute_result"
    }
   ],
   "source": [
    "test_x.loc[is_outlier, \"Water\"] = int(boundaries[1])\n",
    "is_outlier = (test_x[\"Water\"] < boundaries[0]) | (test_x[\"Water\"] > boundaries[1])\n",
    "is_outlier.sum()"
   ]
  },
  {
   "cell_type": "code",
   "execution_count": 34,
   "id": "727365b0",
   "metadata": {},
   "outputs": [
    {
     "data": {
      "text/plain": [
       "0"
      ]
     },
     "execution_count": 34,
     "metadata": {},
     "output_type": "execute_result"
    }
   ],
   "source": [
    "boundaries = calculate_outliers(train_x[\"Cement\"])\n",
    "is_outlier = (train_x[\"Cement\"] < boundaries[0]) | (train_x[\"Cement\"] > boundaries[1])\n",
    "is_outlier.sum()"
   ]
  },
  {
   "cell_type": "code",
   "execution_count": 35,
   "id": "5b6972e9",
   "metadata": {},
   "outputs": [
    {
     "data": {
      "text/plain": [
       "0"
      ]
     },
     "execution_count": 35,
     "metadata": {},
     "output_type": "execute_result"
    }
   ],
   "source": [
    "boundaries = calculate_outliers(test_x[\"Cement\"])\n",
    "is_outlier = (test_x[\"Cement\"] < boundaries[0]) | (test_x[\"Cement\"] > boundaries[1])\n",
    "is_outlier.sum()"
   ]
  },
  {
   "cell_type": "code",
   "execution_count": 36,
   "id": "778dc452",
   "metadata": {},
   "outputs": [
    {
     "data": {
      "text/plain": [
       "0"
      ]
     },
     "execution_count": 36,
     "metadata": {},
     "output_type": "execute_result"
    }
   ],
   "source": [
    "boundaries = calculate_outliers(train_x[\"Coarse Aggregate\"])\n",
    "is_outlier = (train_x[\"Coarse Aggregate\"] < boundaries[0]) | (train_x[\"Coarse Aggregate\"] > boundaries[1])\n",
    "is_outlier.sum()"
   ]
  },
  {
   "cell_type": "code",
   "execution_count": 37,
   "id": "85ee22dc",
   "metadata": {},
   "outputs": [
    {
     "data": {
      "text/plain": [
       "0"
      ]
     },
     "execution_count": 37,
     "metadata": {},
     "output_type": "execute_result"
    }
   ],
   "source": [
    "boundaries = calculate_outliers(test_x[\"Coarse Aggregate\"])\n",
    "is_outlier = (test_x[\"Coarse Aggregate\"] < boundaries[0]) | (test_x[\"Coarse Aggregate\"] > boundaries[1])\n",
    "is_outlier.sum()"
   ]
  },
  {
   "cell_type": "markdown",
   "id": "a71b49df",
   "metadata": {},
   "source": [
    "## Стандартизация"
   ]
  },
  {
   "cell_type": "code",
   "execution_count": 38,
   "id": "1ca903d0",
   "metadata": {},
   "outputs": [],
   "source": [
    "scaler = StandardScaler()\n",
    "\n",
    "x_train_mm = scaler.fit_transform(train_x[num_cols])\n",
    "X_train_mm = pd.DataFrame(data = x_train_mm,  \n",
    "                  columns =['Cement_std', \"Blast Furnace Slag_std\", \"Superplasticizer_std\",\n",
    "                           \"Age_std\", \"Coarse Aggregate_std\", \"Water_std\"\n",
    "                           ])\n",
    "x_test_mm = scaler.transform(test_x[num_cols])\n",
    "X_test_mm = pd.DataFrame(data = x_test_mm,  \n",
    "                  columns =['Cement_std', \"Blast Furnace Slag_std\", \"Superplasticizer_std\",\n",
    "                           \"Age_std\", \"Coarse Aggregate_std\", \"Water_std\"\n",
    "                           ])\n",
    "train_x1 = pd.concat([X_train_mm, train_x.reset_index(drop=True)], axis=1)\n",
    "test_x1 = pd.concat([X_test_mm, test_x.reset_index(drop=True)], axis=1)\n",
    "columns_for_drop = [ \"Cement\",\"Blast Furnace Slag\",\"Superplasticizer\",\"Age\",\"Coarse Aggregate\",\n",
    "                    \"Water\"]\n",
    "train_x1 = train_x1.drop(columns=columns_for_drop) \n",
    "test_x1 = test_x1.drop(columns=columns_for_drop) "
   ]
  },
  {
   "cell_type": "code",
   "execution_count": 39,
   "id": "e005f451",
   "metadata": {},
   "outputs": [],
   "source": [
    "X = pd.concat([train_x1, test_x1], axis = 0, ignore_index = True) \n",
    "y = pd.concat([train_y, test_y], axis = 0, ignore_index = True) "
   ]
  },
  {
   "cell_type": "code",
   "execution_count": 40,
   "id": "54267550",
   "metadata": {},
   "outputs": [
    {
     "name": "stdout",
     "output_type": "stream",
     "text": [
      "(800, 6) (800,)\n"
     ]
    }
   ],
   "source": [
    "print(X.shape, y.shape)"
   ]
  },
  {
   "cell_type": "markdown",
   "id": "fec58e59",
   "metadata": {},
   "source": [
    "## Машинное обучение"
   ]
  },
  {
   "cell_type": "markdown",
   "id": "5678bdb6",
   "metadata": {},
   "source": [
    "### Линейная регрессия"
   ]
  },
  {
   "cell_type": "code",
   "execution_count": 42,
   "id": "4bd698c1",
   "metadata": {},
   "outputs": [
    {
     "name": "stdout",
     "output_type": "stream",
     "text": [
      "MSE: 9.127108721301646\n",
      "MSE: 8.84571241793478\n"
     ]
    }
   ],
   "source": [
    "from sklearn.linear_model import LinearRegression\n",
    "model = LinearRegression().fit(train_x1, train_y)\n",
    "y_predict_train = model.predict(train_x1)\n",
    "y_predict_test = model.predict(test_x1)\n",
    "print(f'MSE: {mean_squared_error(train_y, y_predict_train, squared = False)}')\n",
    "print(f'MSE: {mean_squared_error(test_y, y_predict_test, squared = False)}')"
   ]
  },
  {
   "cell_type": "markdown",
   "id": "5bd5a6c1",
   "metadata": {},
   "source": [
    "### Lasso регуляризация"
   ]
  },
  {
   "cell_type": "code",
   "execution_count": 43,
   "id": "77981875",
   "metadata": {},
   "outputs": [
    {
     "name": "stdout",
     "output_type": "stream",
     "text": [
      "----- lambda = 0.0001 -----\n",
      "9.127108724437468\n",
      "8.845704232349489\n",
      "----- lambda = 0.001 -----\n",
      "9.127109034882091\n",
      "8.845630778537005\n",
      "----- lambda = 0.01 -----\n",
      "9.127139558073806\n",
      "8.845035190444618\n",
      "----- lambda = 0.1 -----\n",
      "9.130168674630996\n",
      "8.841641239197036\n",
      "----- lambda = 1 -----\n",
      "9.417393521690697\n",
      "9.050142502364494\n",
      "----- lambda = 10 -----\n",
      "17.148706791955906\n",
      "15.254465310473758\n",
      "----- lambda = 100 -----\n",
      "17.148706791955906\n",
      "15.254465310473758\n",
      "----- lambda = 1000 -----\n",
      "17.148706791955906\n",
      "15.254465310473758\n",
      "----- lambda = 10000 -----\n",
      "17.148706791955906\n",
      "15.254465310473758\n"
     ]
    }
   ],
   "source": [
    "from sklearn.linear_model import Lasso\n",
    "coef = []\n",
    "for i in range(-4, 5):\n",
    "    alpha = 10**i\n",
    "    lasso_regression = Lasso(alpha=alpha) # alpha — величина регуляризации\n",
    "\n",
    "  # обучение\n",
    "    lasso_regression.fit(train_x1, train_y)\n",
    "    y_predict_train = lasso_regression.predict(train_x1)\n",
    "    y_predict_test = lasso_regression.predict(test_x1)\n",
    "    \n",
    "  # вывод точности предсказания\n",
    "    print('-'*5, 'lambda =', alpha, '-'*5)\n",
    "    print(mean_squared_error(train_y, y_predict_train, squared = False))\n",
    "    print(mean_squared_error(test_y, y_predict_test, squared = False))"
   ]
  },
  {
   "cell_type": "markdown",
   "id": "98c29ead",
   "metadata": {},
   "source": [
    "### Ridge регуляризация"
   ]
  },
  {
   "cell_type": "code",
   "execution_count": 44,
   "id": "3e2cd29d",
   "metadata": {},
   "outputs": [
    {
     "name": "stdout",
     "output_type": "stream",
     "text": [
      "----- lambda = 1e-07 -----\n",
      "9.127108721301646\n",
      "8.84571241808179\n",
      "----- lambda = 1e-06 -----\n",
      "9.127108721301646\n",
      "8.845712419404885\n",
      "----- lambda = 1e-05 -----\n",
      "9.12710872130165\n",
      "8.845712432635827\n",
      "----- lambda = 0.0001 -----\n",
      "9.127108721302\n",
      "8.845712564945492\n",
      "----- lambda = 0.001 -----\n",
      "9.127108721337047\n",
      "8.845713888065674\n",
      "----- lambda = 0.01 -----\n",
      "9.12710872484164\n",
      "8.845727121621113\n"
     ]
    }
   ],
   "source": [
    "from sklearn.linear_model import Ridge\n",
    "for i in range(-7, -1):\n",
    "    alpha = 10**i\n",
    "    ridge_regression = Ridge(alpha=alpha)  # alpha — величина регуляризации\n",
    "\n",
    "  # обучение\n",
    "    ridge_regression.fit(train_x1, train_y)\n",
    "    y_predict_train = ridge_regression.predict(train_x1)\n",
    "    y_predict_test = ridge_regression.predict(test_x1)\n",
    "    \n",
    "  # вывод точности предсказания\n",
    "    print('-'*5, 'lambda =', alpha, '-'*5)\n",
    "    print(mean_squared_error(train_y, y_predict_train, squared = False))\n",
    "    print(mean_squared_error(test_y, y_predict_test, squared = False))"
   ]
  },
  {
   "cell_type": "markdown",
   "id": "35023c76",
   "metadata": {},
   "source": [
    "### ElasticNet регуляризация"
   ]
  },
  {
   "cell_type": "code",
   "execution_count": 45,
   "id": "660eb69c",
   "metadata": {},
   "outputs": [
    {
     "name": "stdout",
     "output_type": "stream",
     "text": [
      "10.7310525039519\n",
      "10.300535665820622\n"
     ]
    }
   ],
   "source": [
    "from sklearn.linear_model import ElasticNet\n",
    "elastic_regression = ElasticNet() \n",
    "elastic_regression.fit(train_x1, train_y)\n",
    "y_predict_train = elastic_regression.predict(train_x1)\n",
    "y_predict_test = elastic_regression.predict(test_x1)\n",
    "print(mean_squared_error(train_y, y_predict_train, squared = False))\n",
    "print(mean_squared_error(test_y, y_predict_test, squared = False))"
   ]
  },
  {
   "cell_type": "markdown",
   "id": "5f786b51",
   "metadata": {},
   "source": [
    "### Ближайшие соседи"
   ]
  },
  {
   "cell_type": "code",
   "execution_count": 46,
   "id": "3a7560e0",
   "metadata": {},
   "outputs": [
    {
     "name": "stdout",
     "output_type": "stream",
     "text": [
      "Лучшая MSE 7.599225497645302\n",
      "Количество ближайших соседей 4\n"
     ]
    }
   ],
   "source": [
    "total = 300\n",
    "k = 0\n",
    "from sklearn.neighbors import KNeighborsRegressor\n",
    "for k in range(1, 30):\n",
    "    knn = KNeighborsRegressor(n_neighbors=k)\n",
    "    knn.fit(train_x1, train_y)\n",
    "    y_predict_test = knn.predict(test_x1)\n",
    "    mse = mean_squared_error(test_y, y_predict_test, squared = False)\n",
    "    if mse < total:\n",
    "        total = mse\n",
    "        k_best = k\n",
    "print(\"Лучшая MSE\", total)\n",
    "print(\"Количество ближайших соседей\", k_best)"
   ]
  },
  {
   "cell_type": "markdown",
   "id": "396382f9",
   "metadata": {},
   "source": [
    "### SGDRegressor"
   ]
  },
  {
   "cell_type": "code",
   "execution_count": 47,
   "id": "facb258a",
   "metadata": {},
   "outputs": [
    {
     "name": "stdout",
     "output_type": "stream",
     "text": [
      "RMSE: 8.83852183542102\n"
     ]
    }
   ],
   "source": [
    "from sklearn.linear_model import SGDRegressor\n",
    "linear_regression_model = SGDRegressor(loss = 'squared_error',\n",
    "            penalty = 'l2',\n",
    "            alpha = 0.0001,\n",
    "            max_iter = 50000,\n",
    "            learning_rate = 'constant',\n",
    "            eta0 = 0.001,\n",
    "            tol=.00001,\n",
    "            random_state = 42)\n",
    "linear_regression_model.fit(train_x1, train_y)\n",
    "predictions = linear_regression_model.predict(test_x1)\n",
    "mse = mean_squared_error(test_y, predictions, squared = False) \n",
    "print(\"RMSE: {}\".format(mse))"
   ]
  },
  {
   "cell_type": "code",
   "execution_count": 48,
   "id": "e4218e34",
   "metadata": {},
   "outputs": [
    {
     "name": "stdout",
     "output_type": "stream",
     "text": [
      "RMSE: 8.838367085764451\n"
     ]
    }
   ],
   "source": [
    "linear_regression_model = SGDRegressor(loss = 'squared_error',\n",
    "            penalty = 'l1',\n",
    "            alpha = 0.001,\n",
    "            max_iter = 50000,\n",
    "            learning_rate = 'constant',\n",
    "            eta0 = 0.001,\n",
    "            tol=.00001,\n",
    "            random_state = 42)\n",
    "linear_regression_model.fit(train_x1, train_y)\n",
    "predictions = linear_regression_model.predict(test_x1)\n",
    "mse = mean_squared_error(test_y, predictions, squared = False) \n",
    "print(\"RMSE: {}\".format(mse))"
   ]
  },
  {
   "cell_type": "markdown",
   "id": "c79cc0fa",
   "metadata": {},
   "source": [
    "### Случайный лес"
   ]
  },
  {
   "cell_type": "code",
   "execution_count": 49,
   "id": "fc0288af",
   "metadata": {},
   "outputs": [
    {
     "name": "stdout",
     "output_type": "stream",
     "text": [
      "RMSE: 5.049212432610214\n"
     ]
    }
   ],
   "source": [
    "from sklearn.ensemble import RandomForestRegressor\n",
    "random_regression_model = RandomForestRegressor(random_state = 42)\n",
    "random_regression_model.fit(train_x1, train_y)\n",
    "predictions = random_regression_model.predict(test_x1)\n",
    "mse = mean_squared_error(test_y, predictions, squared = False) \n",
    "\n",
    "print(\"RMSE: {}\".format(mse))"
   ]
  },
  {
   "cell_type": "markdown",
   "id": "cdb07020",
   "metadata": {},
   "source": [
    "### Тюнинг модели случайного леса"
   ]
  },
  {
   "cell_type": "code",
   "execution_count": 50,
   "id": "7f1c72e2",
   "metadata": {},
   "outputs": [
    {
     "data": {
      "text/plain": [
       "Text(0, 0.5, 'f on test')"
      ]
     },
     "execution_count": 50,
     "metadata": {},
     "output_type": "execute_result"
    },
    {
     "data": {
      "image/png": "[encoded data removed]",
      "text/plain": [
       "<Figure size 432x288 with 1 Axes>"
      ]
     },
     "metadata": {},
     "output_type": "display_data"
    }
   ],
   "source": [
    "N = []\n",
    "f = []\n",
    "for n in np.arange(5, 150, 1):\n",
    "    rf = RandomForestRegressor(n_estimators = n)\n",
    "    rf.fit(train_x1, train_y)\n",
    "    pred_rf = rf.predict(test_x1)\n",
    "    N.append(n)\n",
    "    f.append(mean_squared_error(test_y, pred_rf, squared = False))\n",
    "\n",
    "plt.plot(N, f, '-')\n",
    "plt.xlabel('number of trees in forest')\n",
    "plt.ylabel('f on test')"
   ]
  },
  {
   "cell_type": "code",
   "execution_count": 51,
   "id": "0def1e74",
   "metadata": {},
   "outputs": [
    {
     "data": {
      "text/plain": [
       "[(25, 4.950764162422726),\n",
       " (69, 4.954295188166614),\n",
       " (122, 4.973519721676912),\n",
       " (70, 4.982765797048567),\n",
       " (102, 4.984264300541065),\n",
       " (90, 4.985430852752679),\n",
       " (111, 4.987514147704967),\n",
       " (133, 4.989293636246602),\n",
       " (57, 4.9988149254234395),\n",
       " (127, 5.000440243828144)]"
      ]
     },
     "execution_count": 51,
     "metadata": {},
     "output_type": "execute_result"
    }
   ],
   "source": [
    "f_imp_list1 = list(zip(N, f))\n",
    "f_imp_list1.sort(key = lambda x: x[1])\n",
    "f_imp_list1[:10]"
   ]
  },
  {
   "cell_type": "code",
   "execution_count": 52,
   "id": "96ed6cce",
   "metadata": {},
   "outputs": [
    {
     "name": "stdout",
     "output_type": "stream",
     "text": [
      "RMSE: 5.441381199129347\n"
     ]
    }
   ],
   "source": [
    "random_regression_model1 = RandomForestRegressor(random_state = 42, n_estimators=25)\n",
    "random_regression_model1.fit(train_x1, train_y)\n",
    "predictions = random_regression_model1.predict(test_x1)\n",
    "mse = mean_squared_error(test_y, predictions, squared = False) \n",
    "print(\"RMSE: {}\".format(mse))"
   ]
  },
  {
   "cell_type": "code",
   "execution_count": 53,
   "id": "2bb1da5c",
   "metadata": {},
   "outputs": [
    {
     "name": "stdout",
     "output_type": "stream",
     "text": [
      "RMSE: 2.042234720481562\n"
     ]
    }
   ],
   "source": [
    "random_regression_model1 = RandomForestRegressor(random_state = 42, n_estimators=25)\n",
    "random_regression_model1.fit(X, y)\n",
    "predictions = random_regression_model1.predict(X)\n",
    "mse = mean_squared_error(y, predictions, squared = False) \n",
    "print(\"RMSE: {}\".format(mse))"
   ]
  },
  {
   "cell_type": "code",
   "execution_count": 54,
   "id": "0f1f1d9c",
   "metadata": {},
   "outputs": [
    {
     "name": "stdout",
     "output_type": "stream",
     "text": [
      "RMSE: 5.141803842683059\n"
     ]
    }
   ],
   "source": [
    "random_regression_model2 = RandomForestRegressor()\n",
    "random_regression_model2.fit(train_x1, train_y)\n",
    "predictions = random_regression_model2.predict(test_x1)\n",
    "mse = mean_squared_error(test_y, predictions, squared = False) \n",
    "\n",
    "print(\"RMSE: {}\".format(mse))"
   ]
  },
  {
   "cell_type": "code",
   "execution_count": 55,
   "id": "1ee2729d",
   "metadata": {},
   "outputs": [
    {
     "name": "stdout",
     "output_type": "stream",
     "text": [
      "RMSE: 1.906633089222282\n"
     ]
    }
   ],
   "source": [
    "random_regression_model2.fit(X, y)\n",
    "predictions = random_regression_model2.predict(X)\n",
    "mse = mean_squared_error(y, predictions, squared = False) \n",
    "print(\"RMSE: {}\".format(mse))"
   ]
  },
  {
   "cell_type": "markdown",
   "id": "01f4c269",
   "metadata": {},
   "source": [
    "### Catboost"
   ]
  },
  {
   "cell_type": "code",
   "execution_count": 56,
   "id": "bc96245e",
   "metadata": {},
   "outputs": [
    {
     "data": {
      "text/plain": [
       "[(55, 4.32426596819128),\n",
       " (140, 4.334519374707609),\n",
       " (65, 4.340065311357807),\n",
       " (135, 4.386003595015792),\n",
       " (60, 4.399417076482631),\n",
       " (130, 4.406594087932988),\n",
       " (110, 4.410834475541278),\n",
       " (145, 4.4127680472606645),\n",
       " (45, 4.41289238581944),\n",
       " (120, 4.450893879928846)]"
      ]
     },
     "execution_count": 56,
     "metadata": {},
     "output_type": "execute_result"
    }
   ],
   "source": [
    "from catboost import CatBoostRegressor\n",
    "N = []\n",
    "f1 = []\n",
    "\n",
    "for n in np.arange(10, 150, 5):\n",
    "    rf = cb.CatBoostRegressor(logging_level='Silent', n_estimators = n)    \n",
    "    rf.fit(train_x1, train_y)\n",
    "    pred = rf.predict(test_x1)\n",
    "    N.append(n)\n",
    "    f1.append(mean_squared_error(test_y, pred, squared = False))\n",
    "f_imp_list2 = list(zip(N, f1))\n",
    "f_imp_list2.sort(key = lambda x: x[1])\n",
    "f_imp_list2[:10]"
   ]
  },
  {
   "cell_type": "code",
   "execution_count": 57,
   "id": "a62f18b0",
   "metadata": {},
   "outputs": [
    {
     "name": "stdout",
     "output_type": "stream",
     "text": [
      "RMSE: 4.32426596819128\n"
     ]
    }
   ],
   "source": [
    "best1 = cb.CatBoostRegressor(logging_level='Silent', n_estimators = 55)\n",
    "best1.fit(train_x1, train_y)\n",
    "predictions = best1.predict(test_x1)\n",
    "mse = mean_squared_error(test_y, predictions) \n",
    "print(\"RMSE: {}\".format(np.sqrt(mse)))"
   ]
  },
  {
   "cell_type": "code",
   "execution_count": 58,
   "id": "43627336",
   "metadata": {},
   "outputs": [
    {
     "name": "stdout",
     "output_type": "stream",
     "text": [
      "RMSE: 2.5979837845311833\n"
     ]
    }
   ],
   "source": [
    "best1 = cb.CatBoostRegressor(logging_level='Silent', n_estimators = 55)\n",
    "best1.fit(X, y)\n",
    "predictions = best1.predict(X)\n",
    "mse = mean_squared_error(y, predictions, squared = False) \n",
    "print(\"RMSE: {}\".format(mse))"
   ]
  },
  {
   "cell_type": "markdown",
   "id": "3fc0c9f6",
   "metadata": {},
   "source": [
    "### Gradient Descent"
   ]
  },
  {
   "cell_type": "code",
   "execution_count": 59,
   "id": "aa1e95de",
   "metadata": {},
   "outputs": [],
   "source": [
    "def gradient_descent(X, y, alpha=0.001, epochs=5000):\n",
    "    m = np.shape(X)[0]  \n",
    "    n = np.shape(X)[1]  \n",
    "    X = np.concatenate((np.ones((m, 1)), X), axis=1)\n",
    "    W = np.random.randn(n + 1, )\n",
    " \n",
    "    for current_iteration in range(epochs):  \n",
    "        y_estimated = X.dot(W)\n",
    "        error = y_estimated - y\n",
    "        gradient = (1 / m) * X.T.dot(error)\n",
    "        W = W - alpha * gradient\n",
    "    return W"
   ]
  },
  {
   "cell_type": "code",
   "execution_count": 60,
   "id": "c6e1195c",
   "metadata": {},
   "outputs": [],
   "source": [
    "def print_metrics(test_y, y_predict_test):\n",
    "    print(f'MSE: {mean_squared_error(test_y, y_predict_test, squared = False)}')"
   ]
  },
  {
   "cell_type": "code",
   "execution_count": 61,
   "id": "4a33d26a",
   "metadata": {},
   "outputs": [
    {
     "name": "stdout",
     "output_type": "stream",
     "text": [
      "MSE: 8.84624905713549\n"
     ]
    }
   ],
   "source": [
    "w = gradient_descent(train_x1, train_y, alpha=0.001, epochs=25000)\n",
    "n = test_x.shape[0]\n",
    "test_x11 = np.hstack([np.ones(n).reshape(-1,1),test_x1])\n",
    "y_hat = test_x11.dot(w.T)\n",
    "print_metrics(test_y, y_hat)"
   ]
  },
  {
   "cell_type": "markdown",
   "id": "60a4597b",
   "metadata": {},
   "source": [
    "### Pytorch"
   ]
  },
  {
   "cell_type": "code",
   "execution_count": 62,
   "id": "d45af851",
   "metadata": {},
   "outputs": [],
   "source": [
    "import torch\n",
    "import matplotlib.pyplot as plt\n",
    "import matplotlib\n",
    "matplotlib.rcParams['figure.figsize'] = (13.0, 5.0)"
   ]
  },
  {
   "cell_type": "code",
   "execution_count": 63,
   "id": "ccca7f3d",
   "metadata": {},
   "outputs": [],
   "source": [
    "X_train = train_x1.to_numpy()\n",
    "X_train = torch.from_numpy(X_train).type(torch.float32)\n",
    "X_train = X_train.unsqueeze_(1) \n",
    "Y_train = train_y.to_numpy()\n",
    "Y_train = torch.from_numpy(Y_train).type(torch.float32)\n",
    "Y_train = Y_train.unsqueeze_(1)\n",
    "x_validation = test_x1.to_numpy()\n",
    "x_validation = torch.from_numpy(x_validation).type(torch.float32)\n",
    "x_validation = x_validation.unsqueeze_(1)\n",
    "y_validation = test_y.to_numpy()\n",
    "y_validation = torch.from_numpy(y_validation).type(torch.float32)\n",
    "y_validation = y_validation.unsqueeze_(1);"
   ]
  },
  {
   "cell_type": "code",
   "execution_count": 64,
   "id": "b6786965",
   "metadata": {},
   "outputs": [
    {
     "name": "stdout",
     "output_type": "stream",
     "text": [
      "15.272036280833213\n"
     ]
    }
   ],
   "source": [
    "class SineNet(torch.nn.Module): \n",
    "    def __init__(self, n_hidden_neurons): \n",
    "        super(SineNet, self).__init__() \n",
    "        self.fc1 = torch.nn.Linear(train_x.shape[1], n_hidden_neurons)\n",
    "        self.activ1 = torch.nn.Tanh()\n",
    "        self.fc2 = torch.nn.Linear(n_hidden_neurons, 1) \n",
    "        \n",
    "    def forward(self, x):\n",
    "        x = self.fc1(x)\n",
    "        x = self.activ1(x)\n",
    "        x = self.fc2(x)\n",
    "        return x\n",
    "\n",
    "sine_net = SineNet(1)\n",
    "optimizer = torch.optim.SGD(sine_net.parameters(), lr=0.01)\n",
    "def loss(pred, target):\n",
    "    squares = (pred - target) ** 2 \n",
    "    return squares.mean()\n",
    "for epoch_index in range(100): \n",
    "    optimizer.zero_grad()\n",
    "    y_pred = sine_net.forward(X_train)\n",
    "    loss_val = loss(y_pred, Y_train)\n",
    "    loss_val.backward()\n",
    "    optimizer.step()\n",
    "print(np.sqrt(loss(sine_net.forward(x_validation), y_validation).item()))"
   ]
  },
  {
   "cell_type": "markdown",
   "id": "2afd6472",
   "metadata": {},
   "source": [
    "## Полиноминальная регрессия"
   ]
  },
  {
   "cell_type": "code",
   "execution_count": 66,
   "id": "4df0053d",
   "metadata": {},
   "outputs": [],
   "source": [
    "from sklearn.preprocessing import PolynomialFeatures\n",
    "poly =  PolynomialFeatures(3, include_bias=False)\n",
    "poly_df = poly.fit_transform(train_x)\n",
    "poly_df1 = poly.transform(test_x)"
   ]
  },
  {
   "cell_type": "code",
   "execution_count": 67,
   "id": "e4bcb97a",
   "metadata": {},
   "outputs": [
    {
     "name": "stdout",
     "output_type": "stream",
     "text": [
      "(640, 83) (160, 83)\n"
     ]
    }
   ],
   "source": [
    "print(poly_df.shape, poly_df1.shape)"
   ]
  },
  {
   "cell_type": "code",
   "execution_count": 68,
   "id": "5fe3c9b5",
   "metadata": {},
   "outputs": [
    {
     "name": "stdout",
     "output_type": "stream",
     "text": [
      "(640, 83) (160, 83)\n"
     ]
    }
   ],
   "source": [
    "scaler = StandardScaler()\n",
    "scaled_poly_df= scaler.fit_transform(poly_df)\n",
    "scaled_poly_df1= scaler.transform(poly_df1)\n",
    "print(scaled_poly_df.shape, scaled_poly_df1.shape)"
   ]
  },
  {
   "cell_type": "code",
   "execution_count": 69,
   "id": "5ed4ea20",
   "metadata": {},
   "outputs": [],
   "source": [
    "X = np.concatenate([scaled_poly_df, scaled_poly_df1], axis = 0) \n",
    "y = pd.concat([train_y, test_y], axis = 0, ignore_index = True)"
   ]
  },
  {
   "cell_type": "code",
   "execution_count": 70,
   "id": "5630d159",
   "metadata": {},
   "outputs": [
    {
     "name": "stdout",
     "output_type": "stream",
     "text": [
      "(800, 83) (800,)\n"
     ]
    }
   ],
   "source": [
    "print(X.shape, y.shape)"
   ]
  },
  {
   "cell_type": "code",
   "execution_count": 71,
   "id": "06c40c1b",
   "metadata": {},
   "outputs": [
    {
     "name": "stdout",
     "output_type": "stream",
     "text": [
      "MSE: 5.00269998583786\n",
      "MSE: 5.534412930310424\n"
     ]
    }
   ],
   "source": [
    "model = LinearRegression().fit(scaled_poly_df, train_y)\n",
    "y_predict_train = model.predict(scaled_poly_df)\n",
    "y_predict_test = model.predict(scaled_poly_df1)\n",
    "print(f'MSE: {mean_squared_error(train_y, y_predict_train, squared = False)}')\n",
    "print(f'MSE: {mean_squared_error(test_y, y_predict_test, squared = False)}')"
   ]
  },
  {
   "cell_type": "code",
   "execution_count": 72,
   "id": "7134667c",
   "metadata": {},
   "outputs": [
    {
     "name": "stdout",
     "output_type": "stream",
     "text": [
      "----- lambda = 0.0001 -----\n",
      "5.668956009258754\n",
      "5.84480373776127\n",
      "----- lambda = 0.001 -----\n",
      "5.673644027373722\n",
      "5.852875109299126\n",
      "----- lambda = 0.01 -----\n",
      "5.778651522248844\n",
      "5.959665947075002\n",
      "----- lambda = 0.1 -----\n",
      "6.7752468261225145\n",
      "6.655487260510755\n",
      "----- lambda = 1 -----\n",
      "8.811265515652638\n",
      "8.777983024797928\n",
      "----- lambda = 10 -----\n",
      "17.148706791955906\n",
      "15.254465310473758\n",
      "----- lambda = 100 -----\n",
      "17.148706791955906\n",
      "15.254465310473758\n",
      "----- lambda = 1000 -----\n",
      "17.148706791955906\n",
      "15.254465310473758\n",
      "----- lambda = 10000 -----\n",
      "17.148706791955906\n",
      "15.254465310473758\n"
     ]
    }
   ],
   "source": [
    "from sklearn.linear_model import Lasso\n",
    "coef = []\n",
    "for i in range(-4, 5):\n",
    "    alpha = 10**i\n",
    "    lasso_regression = Lasso(alpha=alpha) # alpha — величина регуляризации\n",
    "\n",
    "  # обучение\n",
    "    lasso_regression.fit(scaled_poly_df, train_y)\n",
    "    y_predict_train = lasso_regression.predict(scaled_poly_df)\n",
    "    y_predict_test = lasso_regression.predict(scaled_poly_df1)\n",
    "    \n",
    "  # вывод точности предсказания\n",
    "    print('-'*5, 'lambda =', alpha, '-'*5)\n",
    "    print(mean_squared_error(train_y, y_predict_train, squared = False))\n",
    "    print(mean_squared_error(test_y, y_predict_test, squared = False))"
   ]
  },
  {
   "cell_type": "code",
   "execution_count": 73,
   "id": "817f5a67",
   "metadata": {},
   "outputs": [
    {
     "name": "stdout",
     "output_type": "stream",
     "text": [
      "RMSE: 5.1658883938778555\n"
     ]
    }
   ],
   "source": [
    "from sklearn.ensemble import RandomForestRegressor\n",
    "random_regression_model = RandomForestRegressor(random_state = 42)\n",
    "random_regression_model.fit(scaled_poly_df, train_y)\n",
    "predictions = random_regression_model.predict(scaled_poly_df1)\n",
    "mse = mean_squared_error(test_y, predictions, squared = False) \n",
    "\n",
    "print(\"RMSE: {}\".format(mse))"
   ]
  },
  {
   "cell_type": "code",
   "execution_count": 74,
   "id": "67b61698",
   "metadata": {},
   "outputs": [
    {
     "data": {
      "text/plain": [
       "Text(0, 0.5, 'f on test')"
      ]
     },
     "execution_count": 74,
     "metadata": {},
     "output_type": "execute_result"
    },
    {
     "data": {
      "image/png": "[encoded data removed]",
      "text/plain": [
       "<Figure size 936x360 with 1 Axes>"
      ]
     },
     "metadata": {},
     "output_type": "display_data"
    }
   ],
   "source": [
    "N = []\n",
    "f = []\n",
    "for n in np.arange(5, 150, 5):\n",
    "    rf = RandomForestRegressor(n_estimators = n)\n",
    "    rf.fit(scaled_poly_df, train_y)\n",
    "    pred_rf = rf.predict(scaled_poly_df1)\n",
    "    N.append(n)\n",
    "    f.append(mean_squared_error(test_y, pred_rf, squared = False))\n",
    "\n",
    "plt.plot(N, f, '-')\n",
    "plt.xlabel('number of trees in forest')\n",
    "plt.ylabel('f on test')"
   ]
  },
  {
   "cell_type": "code",
   "execution_count": 75,
   "id": "d5b94224",
   "metadata": {},
   "outputs": [
    {
     "data": {
      "text/plain": [
       "[(15, 4.957346831240648),\n",
       " (20, 5.019633739775288),\n",
       " (135, 5.033628669037223),\n",
       " (130, 5.060261690921704),\n",
       " (50, 5.077305416535977),\n",
       " (115, 5.089630912448396),\n",
       " (45, 5.089713255815451),\n",
       " (55, 5.0920934549599),\n",
       " (145, 5.105414940569478),\n",
       " (100, 5.106042980263893)]"
      ]
     },
     "execution_count": 75,
     "metadata": {},
     "output_type": "execute_result"
    }
   ],
   "source": [
    "f_imp_list1 = list(zip(N, f))\n",
    "f_imp_list1.sort(key = lambda x: x[1])\n",
    "f_imp_list1[:10]"
   ]
  },
  {
   "cell_type": "code",
   "execution_count": 76,
   "id": "ee372dd7",
   "metadata": {},
   "outputs": [
    {
     "name": "stdout",
     "output_type": "stream",
     "text": [
      "RMSE: 5.303744697278855\n"
     ]
    }
   ],
   "source": [
    "random_regression_model1 = RandomForestRegressor(random_state = 42, n_estimators=15)\n",
    "random_regression_model1.fit(scaled_poly_df, train_y)\n",
    "predictions = random_regression_model1.predict(scaled_poly_df1)\n",
    "mse = mean_squared_error(test_y, predictions, squared = False) \n",
    "print(\"RMSE: {}\".format(mse))"
   ]
  },
  {
   "cell_type": "code",
   "execution_count": 77,
   "id": "9e38db0b",
   "metadata": {},
   "outputs": [
    {
     "data": {
      "text/plain": [
       "[(140, 4.671033733458272),\n",
       " (145, 4.903276417463994),\n",
       " (80, 4.934155315625417),\n",
       " (95, 4.949980207426633),\n",
       " (130, 4.983763847896266),\n",
       " (85, 5.004144578535968),\n",
       " (120, 5.0147299465047634),\n",
       " (105, 5.047257788910165),\n",
       " (135, 5.0642551008782055),\n",
       " (125, 5.069456971796338)]"
      ]
     },
     "execution_count": 77,
     "metadata": {},
     "output_type": "execute_result"
    }
   ],
   "source": [
    "from catboost import CatBoostRegressor\n",
    "N = []\n",
    "f1 = []\n",
    "\n",
    "for n in np.arange(10, 150, 5):\n",
    "    rf = cb.CatBoostRegressor(logging_level='Silent', n_estimators = n)    \n",
    "    rf.fit(scaled_poly_df, train_y)\n",
    "    pred = rf.predict(scaled_poly_df1)\n",
    "    N.append(n)\n",
    "    f1.append(mean_squared_error(test_y, pred, squared = False))\n",
    "f_imp_list2 = list(zip(N, f1))\n",
    "f_imp_list2.sort(key = lambda x: x[1])\n",
    "f_imp_list2[:10]"
   ]
  },
  {
   "cell_type": "code",
   "execution_count": 78,
   "id": "efbf3eaf",
   "metadata": {},
   "outputs": [
    {
     "name": "stdout",
     "output_type": "stream",
     "text": [
      "RMSE: 4.671033733458272\n"
     ]
    }
   ],
   "source": [
    "best1 = cb.CatBoostRegressor(logging_level='Silent', n_estimators = 140)\n",
    "best1.fit(scaled_poly_df, train_y)\n",
    "predictions = best1.predict(scaled_poly_df1)\n",
    "mse = mean_squared_error(test_y, predictions) \n",
    "print(\"RMSE: {}\".format(np.sqrt(mse)))"
   ]
  },
  {
   "cell_type": "code",
   "execution_count": null,
   "id": "3eae015f",
   "metadata": {},
   "outputs": [],
   "source": []
  }
 ],
 "metadata": {
  "kernelspec": {
   "display_name": "Python 3 (ipykernel)",
   "language": "python",
   "name": "python3"
  },
  "language_info": {
   "codemirror_mode": {
    "name": "ipython",
    "version": 3
   },
   "file_extension": ".py",
   "mimetype": "text/x-python",
   "name": "python",
   "nbconvert_exporter": "python",
   "pygments_lexer": "ipython3",
   "version": "3.9.12"
  }
 },
 "nbformat": 4,
 "nbformat_minor": 5
}
